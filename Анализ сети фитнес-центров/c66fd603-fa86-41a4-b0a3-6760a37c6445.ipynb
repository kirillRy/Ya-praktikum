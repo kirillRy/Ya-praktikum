{
 "cells": [
  {
   "cell_type": "markdown",
   "metadata": {},
   "source": [
    "# Анализ сети фитнес-центров. Подготовка плана действий по удержанию клиентов."
   ]
  },
  {
   "cell_type": "markdown",
   "metadata": {},
   "source": [
    "### <a name=\"7.\"></a>[Содержание](#1.)\n",
    "\n",
    "* [1. Описание проекта](#1.)\n",
    "* [2. Загрузка данных и подготовка их к анализу](#2.)\n",
    "* [2. Исследовательский анализ данных (EDA)](#3.)\n",
    "* [3. Создание модели прогнозирования оттока пользователей](#4.)\n",
    "* [4. Кластеризация пользователей](#5.)\n",
    "* [5. Выводы](#6.)\n"
   ]
  },
  {
   "cell_type": "markdown",
   "metadata": {},
   "source": [
    "### 1. Описание проекта\n",
    "\n",
    "Сеть фитнес-центров «Культурист-датасаентист» разрабатывает стратегию взаимодействия с пользователями на основе аналитических данных.\n",
    "Распространённая проблема фитнес-клубов и других сервисов — отток клиентов. Как понять, что пользователь больше не с вами? Можно записать в отток тех, кто попросил закрыть договор или удалил аккаунт. Однако клиенты не всегда уходят демонстративно: чаще перестают пользоваться сервисом тихо.\n",
    "\n",
    "Индикаторы оттока зависят от специфики отрасли. Когда пользователь редко, но стабильно закупается в интернет-магазине — не похоже, что он «отвалился». А вот если две недели не заходит на канал с ежедневно обновляемым контентом, дела плохи: подписчик заскучал и, кажется, оставил вас.\n",
    "\n",
    "Для фитнес-центра можно считать, что клиент попал в отток, если за последний месяц ни разу не посетил спортзал. Конечно, не исключено, что он уехал на Бали и по приезде обязательно продолжит ходить на фитнес. Однако чаще бывает наоборот. Если клиент начал новую жизнь с понедельника, немного походил в спортзал, а потом пропал — скорее всего, он не вернётся.\n",
    "\n",
    "Чтобы бороться с оттоком, отдел по работе с клиентами «Культуриста-датасаентиста» перевёл в электронный вид множество анкет пользователей. Ваша задача — провести анализ и подготовить план действий по удержанию клиентов.\n",
    "\n",
    "А именно:\n",
    "- научиться прогнозировать вероятность оттока (на уровне следующего месяца) для каждого клиента;\n",
    "- сформировать типичные портреты пользователей: выделить несколько наиболее ярких групп и охарактеризовать их основные свойства;\n",
    "- проанализировать основные признаки, наиболее сильно влияющие на отток;\n",
    "- сформулировать основные выводы и разработать рекомендации по повышению качества работы с клиентами:\n",
    "- 1) выделить целевые группы клиентов;\n",
    "- 2) предложить меры по снижению оттока;\n",
    "- 3) определить другие особенности взаимодействия с клиентами."
   ]
  },
  {
   "cell_type": "markdown",
   "metadata": {},
   "source": [
    "### 2. <a name=\"2.\"></a>Загрузка данных и подготовка их к анализу"
   ]
  },
  {
   "cell_type": "markdown",
   "metadata": {},
   "source": [
    "Заказчик подготовил данные, которые содержат информацию на месяц до оттока и факт оттока на определённый месяц. Набор данных включает следующие поля:\n",
    "\n",
    "- `'Churn'` — факт оттока в текущем месяце;\n",
    "- Текущие поля в датасете:\n",
    "    - Данные пользователя за предыдущий до проверки факта оттока месяц:\n",
    "        - `'gender'` — пол\n",
    "        - `'Near_Location'` — проживание или работа в районе, где находится фитнес-центр\n",
    "        - `'Partner'` — сотрудник компании-партнёра клуба (сотрудничество с компаниями, чьи сотрудники могут получать скидки на абонемент — в таком случае фитнес-центр хранит информацию о работодателе клиента)\n",
    "        - `Promo_friends` — факт первоначальной записи в рамках акции «приведи друга» (использовал промо-код от знакомого при оплате первого абонемента)\n",
    "        - `'Phone'` — наличие контактного телефона\n",
    "        - `'Age'` — возраст\n",
    "        - `'Lifetime'` — время с момента первого обращения в фитнес-центр (в месяцах)\n",
    "    - Информация на основе журнала посещений, покупок и информация о текущем статусе абонемента клиента\n",
    "        - `'Contract_period'` — длительность текущего действующего абонемента (месяц, 3 месяца, 6 месяцев, год)\n",
    "        - `'Month_to_end_contract'` — срок до окончания текущего действующего абонемента (в месяцах)\n",
    "        - `'Group_visits'` — факт посещения групповых занятий\n",
    "        - `'Avg_class_frequency_total'` — средняя частота посещений в неделю за все время с начала действия абонемента\n",
    "        - `'Avg_class_frequency_current_month'` — средняя частота посещений в неделю за предыдущий месяц\n",
    "        - `'Avg_additional_charges_total'` — суммарная выручка от других услуг фитнес-центра: кафе, спорт-товары, косметический и массажный салон"
   ]
  },
  {
   "cell_type": "code",
   "execution_count": null,
   "metadata": {},
   "outputs": [],
   "source": [
    "#импорт библиотек\n",
    "import pandas as pd\n",
    "from matplotlib import pyplot as plt\n",
    "import seaborn as sns\n",
    "import plotly.graph_objects as go\n",
    "import numpy as np\n",
    "pd.options.display.max_columns = 500 \n",
    "pd.set_option('display.max_colwidth', 200)\n",
    "from scipy.cluster.hierarchy import dendrogram, linkage\n",
    "from sklearn.preprocessing import StandardScaler\n",
    "from sklearn.model_selection import train_test_split\n",
    "from sklearn.tree import DecisionTreeRegressor\n",
    "from sklearn.ensemble import RandomForestRegressor, GradientBoostingRegressor\n",
    "from sklearn.ensemble import RandomForestClassifier, GradientBoostingClassifier\n",
    "from sklearn.metrics import mean_absolute_error, mean_squared_error, r2_score\n",
    "from sklearn.linear_model import LogisticRegression\n",
    "from sklearn.metrics import accuracy_score, precision_score, recall_score, f1_score\n",
    "from sklearn.cluster import KMeans"
   ]
  },
  {
   "cell_type": "code",
   "execution_count": null,
   "metadata": {},
   "outputs": [],
   "source": [
    "data = pd.read_csv('/datasets/gym_churn.csv')"
   ]
  },
  {
   "cell_type": "code",
   "execution_count": null,
   "metadata": {},
   "outputs": [],
   "source": [
    "#создадим функцию для вывода информации о датасете\n",
    "def info(data):\n",
    "    display(data.head(10))\n",
    "    print('Информация о датафрейме')\n",
    "    print(data.info())\n",
    "    print()\n",
    "    print('Первые 10 строк')\n",
    "    print()\n",
    "    for i in data.columns:\n",
    "        print('Число пропущенных значений в столбце ', i, ' = ', data[i].isnull().sum())\n",
    "    print('Число дубликатов в датафрейме', data.duplicated().sum())"
   ]
  },
  {
   "cell_type": "code",
   "execution_count": null,
   "metadata": {},
   "outputs": [],
   "source": [
    "info(data)"
   ]
  },
  {
   "cell_type": "markdown",
   "metadata": {},
   "source": [
    "В датасете 4000 наблюдений и 14 полей — 13 признаков и целевая переменная. Все признаки численные, пропусков нет."
   ]
  },
  {
   "cell_type": "markdown",
   "metadata": {},
   "source": [
    "В датасете содержся бинарные поля, признаки которых принимают только значения 0 или 1: 'gender', 'Near_Location', 'Partner', 'Promo_friends', 'Phone', Group_visits. Остальные числовые поля: 'Contract_period', 'Age', 'Avg_additional_charges_total', 'Month_to_end_contract', 'Lifetime','Avg_class_frequency_total', 'Avg_class_frequency_current_month', 'Churn'."
   ]
  },
  {
   "cell_type": "markdown",
   "metadata": {},
   "source": [
    "### 3. <a name=\"3.\"></a>Исследовательский анализ данных (EDA)\n",
    "[к содержанию](#1.)"
   ]
  },
  {
   "cell_type": "markdown",
   "metadata": {},
   "source": [
    "Сохраним в data1 признаки, не относящиеся к бинарным полям."
   ]
  },
  {
   "cell_type": "code",
   "execution_count": null,
   "metadata": {},
   "outputs": [],
   "source": [
    "data1=data[['Contract_period', 'Age', 'Avg_additional_charges_total', 'Month_to_end_contract', 'Lifetime',\n",
    "      'Avg_class_frequency_total', 'Avg_class_frequency_current_month', 'Churn']]"
   ]
  },
  {
   "cell_type": "markdown",
   "metadata": {},
   "source": [
    "Посмотрим на статистику признаков в двух группах — тех, кто ушел в отток и тех, кто остался."
   ]
  },
  {
   "cell_type": "code",
   "execution_count": null,
   "metadata": {},
   "outputs": [],
   "source": [
    "data1[data1['Churn']==0].describe()"
   ]
  },
  {
   "cell_type": "code",
   "execution_count": null,
   "metadata": {},
   "outputs": [],
   "source": [
    "data1[data1['Churn']==1].describe()"
   ]
  },
  {
   "cell_type": "markdown",
   "metadata": {},
   "source": [
    "Для клиентов, которые не ушли, в сравнении с теми, кто попал в отток, характерно следующее:\n",
    "- большая длительность абонемента,\n",
    "- больший средний возраст (30 против 27),\n",
    "- большая средняя частота посещений,\n",
    "- большее пользование услугами фитнес-центра: кафе, спорт-товары, косметический и массажный салон"
   ]
  },
  {
   "cell_type": "code",
   "execution_count": null,
   "metadata": {},
   "outputs": [],
   "source": [
    "fig = go.Figure()\n",
    "for i in data1.columns: \n",
    "    y = data[i]\n",
    "    fig.add_trace(go.Box(y=y, name=i, boxmean=True))\n",
    "\n",
    "fig.update_xaxes(title='Тип признака')\n",
    "fig.update_layout(template=\"plotly_white\", title=\"Распределение наблюдений по признакам\", \n",
    "                  showlegend = False, autosize=False, width=950, height=600)\n",
    "fig.show()"
   ]
  },
  {
   "cell_type": "markdown",
   "metadata": {},
   "source": [
    "Для лучшей визуализации посмотрим на распределение признаков без `Avg_additional_charges_total'`."
   ]
  },
  {
   "cell_type": "code",
   "execution_count": null,
   "metadata": {},
   "outputs": [],
   "source": [
    "fig = go.Figure()\n",
    "for i in data1.drop('Avg_additional_charges_total', axis = 1).columns: \n",
    "    y = data[i]\n",
    "    fig.add_trace(go.Box(y=y, name=i, boxmean=True))\n",
    "\n",
    "fig.update_xaxes(title='Тип признака')\n",
    "fig.update_layout(template=\"plotly_white\", title=\"Распределение наблюдений по признакам\", \n",
    "                  showlegend = False, autosize=False, width=950, height=600)\n",
    "fig.show()"
   ]
  },
  {
   "cell_type": "markdown",
   "metadata": {},
   "source": [
    "Редкие значения в небольшом количестве наблюдается почти у всех признаков, кроме `'Contract_period'` и `'Month_to_end_contract'`."
   ]
  },
  {
   "cell_type": "markdown",
   "metadata": {},
   "source": [
    "Построим гистограммы признаков для тех, кто ушёл (отток) и тех, кто остался (не попали в отток):"
   ]
  },
  {
   "cell_type": "code",
   "execution_count": null,
   "metadata": {
    "scrolled": false
   },
   "outputs": [],
   "source": [
    "for col in data1.drop('Churn', axis = 1).columns:\n",
    "    x1 = data1[data1['Churn']==0][col]\n",
    "    x2 = data1[data1['Churn']==1][col]\n",
    "    x3 = data1[col]\n",
    "# plot\n",
    "    fig, axes = plt.subplots(1, 2, figsize=(15, 5), sharey=True, sharex=True)\n",
    "    fig.suptitle('Данные по столбцу: ' + col)\n",
    "    sns.distplot(x1 , color=\"dodgerblue\", ax=axes[0], label='No Churn')\n",
    "    sns.distplot(x2 , color=\"red\", ax=axes[0], axlabel='Churn + No Churn', label = 'Churn')\n",
    "    sns.distplot(x3 , color=\"green\", ax=axes[1], axlabel='All data')\n",
    "    fig.legend(bbox_to_anchor=(0.066, 0.9), loc='lower left', ncol=2, borderaxespad=0.)\n",
    "    axes[0].set(ylabel='Density')\n",
    "    axes[0].grid(axis='y', color='0.95')\n",
    "    axes[1].grid(axis='y', color='0.95')\n",
    "    plt.show()"
   ]
  },
  {
   "cell_type": "markdown",
   "metadata": {},
   "source": [
    "Величина признаков у тех, кто остался (не ушел в отток) имеет большие значения. Наибольшее отличие наблюдается у признака `'Avg_class_frequency_current_month'` (средняя частота посещений в неделю за предыдущий месяц). В следующем шаге применим стандартизацию данных для приведения кнормальному распределению."
   ]
  },
  {
   "cell_type": "markdown",
   "metadata": {},
   "source": [
    "Построим и отрисуем матрицу корреляций:"
   ]
  },
  {
   "cell_type": "code",
   "execution_count": null,
   "metadata": {},
   "outputs": [],
   "source": [
    "cm = data.corr() #вычисляем матрицу корреляций\n",
    "\n",
    "#нарисуем тепловую карту с подписями для матрицы корреляций\n",
    "plt.figure(figsize=(13, 9))\n",
    "sns.heatmap(cm, annot=True, fmt='.1f', linewidths=1, linecolor='gray')"
   ]
  },
  {
   "cell_type": "markdown",
   "metadata": {},
   "source": [
    "Корреляция призаков с целевой переменной невысока. Больше всего с целевой переменной коррелируют признаки:\n",
    "* `'Contract_period'` — длительность текущего действующего абонемента,\n",
    "* `'Age'` — возраст,\n",
    "* `'Month_to_end_contract'` — срок до окончания текущего действующего абонемента,\n",
    "* `'Lifetime'` — время с момента первого обращения в фитнес-центр,\n",
    "* `'Avg_class_frequency_current_month'` — средняя частота посещений в неделю.\n",
    "\n",
    "Сильная парная корреляция (0.5) у признаков: `'Partner'` (сотрудник компании-партнёра клуба) - `'Promo_friends'` (факт первоначальной записи в рамках акции «приведи друга»)."
   ]
  },
  {
   "cell_type": "markdown",
   "metadata": {},
   "source": [
    "### 4. <a name=\"4.\"></a>Создание модели прогнозирования оттока пользователей\n",
    "[к содержанию](#1.)"
   ]
  },
  {
   "cell_type": "markdown",
   "metadata": {},
   "source": [
    "Сохраним признаки в матрице X и целевую переменную в y:"
   ]
  },
  {
   "cell_type": "code",
   "execution_count": null,
   "metadata": {},
   "outputs": [],
   "source": [
    "X = data.drop('Churn', axis = 1)\n",
    "y = data['Churn']"
   ]
  },
  {
   "cell_type": "markdown",
   "metadata": {},
   "source": [
    "Разделим наш датасет на части: \n",
    "- 60% -обучающая, \n",
    "- 20% - валидационная\n",
    "- 20% - тестовая."
   ]
  },
  {
   "cell_type": "code",
   "execution_count": null,
   "metadata": {},
   "outputs": [],
   "source": [
    "#получим обучающую выборку (X_train, y_train)\n",
    "X_train, X_test, y_train, y_test = train_test_split(X, y, test_size=0.4, train_size=0.6)"
   ]
  },
  {
   "cell_type": "code",
   "execution_count": null,
   "metadata": {},
   "outputs": [],
   "source": [
    "#получим валидационную (X_val, y_val) и тестовую выборки (X_train, y_train)\n",
    "X_val, X_test, y_val, y_test = train_test_split(X_test, y_test ,test_size = 0.5,train_size =0.5)"
   ]
  },
  {
   "cell_type": "markdown",
   "metadata": {},
   "source": [
    "Стандартизируем выборки:"
   ]
  },
  {
   "cell_type": "code",
   "execution_count": null,
   "metadata": {},
   "outputs": [],
   "source": [
    "# создадим объект класса StandardScaler и применим его к обучающей выборке\n",
    "scaler = StandardScaler()"
   ]
  },
  {
   "cell_type": "code",
   "execution_count": null,
   "metadata": {},
   "outputs": [],
   "source": [
    "#обучаем scaler и одновременно трансформируем матрицу для обучающей выборки\n",
    "X_train_st = scaler.fit_transform(X_train)"
   ]
  },
  {
   "cell_type": "code",
   "execution_count": null,
   "metadata": {},
   "outputs": [],
   "source": [
    "# применяем стандартизацию к матрице признаков для валидационной и тестовой выборки\n",
    "X_val_st = scaler.transform(X_val)\n",
    "X_test_st = scaler.transform(X_test)"
   ]
  },
  {
   "cell_type": "markdown",
   "metadata": {},
   "source": [
    "Обучим модель на train-выборке двумя способами:\n",
    "- логистической регрессией - sklearn.linear_model.LogisticRegression(),\n",
    "- случайным лесом - sklearn.ensemble.RandomForestClassifier()."
   ]
  },
  {
   "cell_type": "code",
   "execution_count": null,
   "metadata": {},
   "outputs": [],
   "source": [
    "# зададим алгоритм для модели\n",
    "lr_model = LogisticRegression()"
   ]
  },
  {
   "cell_type": "code",
   "execution_count": null,
   "metadata": {
    "scrolled": true
   },
   "outputs": [],
   "source": [
    "# обучим модель\n",
    "lr_model.fit(X_train_st, y_train)\n"
   ]
  },
  {
   "cell_type": "code",
   "execution_count": null,
   "metadata": {},
   "outputs": [],
   "source": [
    "#рассчитаем прогноз класса после обучения\n",
    "lr_predictions = lr_model.predict(X_val_st)\n",
    "\n",
    "# получим вероятность принадлежности объекта к первому или второму классу\n",
    "lr_probabilities = lr_model.predict_proba(X_val_st)[:,1]\n"
   ]
  },
  {
   "cell_type": "code",
   "execution_count": null,
   "metadata": {
    "scrolled": true
   },
   "outputs": [],
   "source": [
    "# получим метрики для полученного прогноза\n",
    "print('Метрики логистической регрессии sklearn.linear_model.LogisticRegression():')\n",
    "print('Accuracy: {:.2f}'.format(accuracy_score (y_val, lr_predictions)))\n",
    "print('Precision: {:.2f}'.format(precision_score (y_val, lr_predictions)))\n",
    "print('Recall: {:.2f}'.format(recall_score (y_val, lr_predictions)))\n"
   ]
  },
  {
   "cell_type": "markdown",
   "metadata": {},
   "source": [
    "Модель логистической регрессии правильно прогнозирует 93%"
   ]
  },
  {
   "cell_type": "markdown",
   "metadata": {},
   "source": [
    "**Выполним перебор следующих гиперпараметров случайного леса:**\n",
    "- n_estimators, \n",
    "- max_depth\n",
    "- min_samples_leaf"
   ]
  },
  {
   "cell_type": "code",
   "execution_count": null,
   "metadata": {},
   "outputs": [],
   "source": [
    "n_estimators = [300,500,700]\n",
    "max_depth = [2,3,7,11,15]\n",
    "min_samples_leaf = [2,3,4,5,6,7]\n"
   ]
  },
  {
   "cell_type": "code",
   "execution_count": null,
   "metadata": {},
   "outputs": [],
   "source": [
    "for i in n_estimators:\n",
    "    rfc_model = RandomForestClassifier(n_estimators = i)\n",
    "    rfc_model.fit(X_train_st, y_train)\n",
    "    rfc_predictions = rfc_model.predict(X_val_st)\n",
    "    rfc_probabilities = rfc_model.predict_proba(X_val_st)[:,1]\n",
    "    print('Метрики случайного леса n_estimators =', i)\n",
    "    print('Accuracy: {:.2f}'.format(accuracy_score (y_val, rfc_predictions)))\n",
    "    print('Precision: {:.2f}'.format(precision_score (y_val, rfc_predictions)))\n",
    "    print('Recall: {:.2f}'.format(recall_score (y_val, rfc_predictions)))\n",
    "print()\n",
    "for i in max_depth:\n",
    "    rfc_model = RandomForestClassifier(max_depth = i)\n",
    "    rfc_model.fit(X_train_st, y_train)\n",
    "    rfc_predictions = rfc_model.predict(X_val_st)\n",
    "    rfc_probabilities = rfc_model.predict_proba(X_val_st)[:,1]\n",
    "    print('Метрики случайного леса max_depth =', i)\n",
    "    print('Accuracy: {:.2f}'.format(accuracy_score (y_val, rfc_predictions)))\n",
    "    print('Precision: {:.2f}'.format(precision_score (y_val, rfc_predictions)))\n",
    "    print('Recall: {:.2f}'.format(recall_score (y_val, rfc_predictions)))\n",
    "print()\n",
    "for i in min_samples_leaf:\n",
    "    rfc_model = RandomForestClassifier(min_samples_leaf = i)\n",
    "    rfc_model.fit(X_train_st, y_train)\n",
    "    rfc_predictions = rfc_model.predict(X_val_st)\n",
    "    rfc_probabilities = rfc_model.predict_proba(X_val_st)[:,1]\n",
    "    print('Метрики случайного леса min_samples_leaf =', i)\n",
    "    print('Accuracy: {:.2f}'.format(accuracy_score (y_val, rfc_predictions)))\n",
    "    print('Precision: {:.2f}'.format(precision_score (y_val, rfc_predictions)))\n",
    "    print('Recall: {:.2f}'.format(recall_score (y_val, rfc_predictions)))\n"
   ]
  },
  {
   "cell_type": "markdown",
   "metadata": {},
   "source": [
    "Гиперпараметр n_estimators = 500 обеспечивает лучший результат:\n",
    "- Accuracy: 0.92\n",
    "- Precision: 0.87\n",
    "- Recall: 0.84\n",
    "\n",
    "Метрики логистической регрессии sklearn.linear_model.LogisticRegression():\n",
    "- Accuracy: 0.91\n",
    "- Precision: 0.88\n",
    "- Recall: 0.80"
   ]
  },
  {
   "cell_type": "markdown",
   "metadata": {},
   "source": [
    "Используем модель случайного леса с гипераметром n_estimators = 300 для работы с тестовой выборкой:"
   ]
  },
  {
   "cell_type": "code",
   "execution_count": null,
   "metadata": {
    "scrolled": true
   },
   "outputs": [],
   "source": [
    "rfc_model = RandomForestClassifier(n_estimators = 500)\n",
    "rfc_model.fit(X_train_st, y_train)\n",
    "rfc_predictions = rfc_model.predict(X_test_st)\n",
    "rfc_probabilities = rfc_model.predict_proba(X_test_st)[:,1]\n",
    "print('Метрики случайного леса')\n",
    "print('Accuracy: {:.2f}'.format(accuracy_score (y_test, rfc_predictions)))\n",
    "print('Precision: {:.2f}'.format(precision_score (y_test, rfc_predictions)))\n",
    "print('Recall: {:.2f}'.format(recall_score (y_test, rfc_predictions)))"
   ]
  },
  {
   "cell_type": "markdown",
   "metadata": {},
   "source": [
    "**Точность прогнозов - 91%. Остальные метрики также показывают хорошие цифры.**"
   ]
  },
  {
   "cell_type": "markdown",
   "metadata": {},
   "source": [
    "### 5. <a name=\"5.\"></a>Кластеризация пользователей\n",
    "[к содержанию](#1.)"
   ]
  },
  {
   "cell_type": "code",
   "execution_count": null,
   "metadata": {},
   "outputs": [],
   "source": [
    "# стандартизируем данные\n",
    "sc = StandardScaler()\n",
    "x_sc = sc.fit_transform(data.drop('Churn', axis = 1))"
   ]
  },
  {
   "cell_type": "markdown",
   "metadata": {},
   "source": [
    "Построим матрицу расстояний функцией linkage() и нарисуем дендрограмму:"
   ]
  },
  {
   "cell_type": "code",
   "execution_count": null,
   "metadata": {},
   "outputs": [],
   "source": [
    "Z = linkage(x_sc, 'ward')\n",
    "fig = plt.figure(figsize=(25, 10))\n",
    "dn = dendrogram(Z)\n",
    "plt.show()"
   ]
  },
  {
   "cell_type": "markdown",
   "metadata": {},
   "source": [
    "На графике мы видим 4 разных цвета, при этом фиолетовая область самая обширная - на ней выделяются 3 кластера. Остановимся на числе кластеров равным 5."
   ]
  },
  {
   "cell_type": "markdown",
   "metadata": {},
   "source": [
    "Обучим модель кластеризации на основании алгоритма K-Means с числом кластеров n=5:"
   ]
  },
  {
   "cell_type": "code",
   "execution_count": null,
   "metadata": {},
   "outputs": [],
   "source": [
    "# задаём модель k_means, укажем параметр random_state=0, чтобы сделать случайность детерминированной\n",
    "km = KMeans(n_clusters = 5, random_state=0)"
   ]
  },
  {
   "cell_type": "code",
   "execution_count": null,
   "metadata": {},
   "outputs": [],
   "source": [
    "# прогнозируем кластеры для клиентов\n",
    "labels = km.fit_predict(x_sc)"
   ]
  },
  {
   "cell_type": "code",
   "execution_count": null,
   "metadata": {},
   "outputs": [],
   "source": [
    "# сохраняем метки кластера в поле нашего датасета\n",
    "data['cluster'] = labels"
   ]
  },
  {
   "cell_type": "code",
   "execution_count": null,
   "metadata": {},
   "outputs": [],
   "source": [
    "# выводим статистику по средним значениям наших признаков по кластеру\n",
    "data.groupby(['cluster']).mean()"
   ]
  },
  {
   "cell_type": "code",
   "execution_count": null,
   "metadata": {},
   "outputs": [],
   "source": [
    "for col in data.drop('cluster', axis = 1).columns:\n",
    "    data.groupby(['cluster'])[col].mean().sort_values().plot.bar(grid=True, color=\"dodgerblue\", \n",
    "                                        figsize=(5, 3))\n",
    "    plt.title(col, fontsize=17)\n",
    "    plt.show()"
   ]
  },
  {
   "cell_type": "markdown",
   "metadata": {},
   "source": [
    "Наиболее якркие кластеры №0 и №4 (имеющие наибольшие средние величины признаков). Далее приведены характеристики кластеров.\\\n",
    "Кластер #0:\n",
    "- наибольшая доля клиентов, относящиеся к сотрудникам компании-партнёра клуба,\n",
    "- наибольшая доля клиентов, воспользовавшихся акцией «приведи друга»,\n",
    "- наибольшая длительность действующего абонемента,\n",
    "- наибольшая доля клиентов, посещающих групповые занятия,\n",
    "- высокая средняя частота посещений,\n",
    "- клиенты активно пользуются другими услугами фитнес-центра,\n",
    "- низкий отток.\n",
    "\n",
    "Кластер #1 \n",
    "- около половины составляют клиенты, относящиеся к сотрудникам компании-партнёра клуба,\n",
    "- около трети воспользовались ацией «приведи друга»,\n",
    "- абонементы больщой продолжительностью (в среднем 7,78мес)\n",
    "- по другим признакам характерны средние значения, относительно других кластеров.\n",
    "\n",
    "Кластер #2 \n",
    "- клиенты, не проживают/работают рядом с фитнес-центром,\n",
    "- малая доля клиентов, воспользовавшихся акцией «приведи друга»,\n",
    "- абонементы небольшой продолжительностью (в среднем 2,35мес),\n",
    "- мало посещают групповые занятия,\n",
    "- низкая частота посещений,\n",
    "- высокий отток.\n",
    "\n",
    "Кластер #3 \n",
    "- наименьшая доля клиентов, относящиеся к сотрудникам компании-партнёра клуба,\n",
    "- минимальная средняя продолжительность абонемента,\n",
    "- небольшая в групповых занятиях,\n",
    "- минимальная частота посещений\n",
    "- максимальный отток.\n",
    "\n",
    "\n",
    "Кластер #4:\n",
    "- наибольшая доля клиентов, активно пользующихся другими услугами фитнес-центра,\n",
    "- наибольшая средняя частота посещений,\n",
    "- низкий отток.\n"
   ]
  },
  {
   "cell_type": "markdown",
   "metadata": {},
   "source": [
    "Построим гистограммы признаков для кластеров:"
   ]
  },
  {
   "cell_type": "code",
   "execution_count": null,
   "metadata": {
    "scrolled": false
   },
   "outputs": [],
   "source": [
    "for col in data1.drop(['Churn'], axis = 1).columns:\n",
    "    x1 = data[data['cluster']==0][col]\n",
    "    x2 = data[data['cluster']==1][col]\n",
    "    x3 = data[data['cluster']==2][col]\n",
    "    x4 = data[data['cluster']==3][col]\n",
    "    x5 = data[data['cluster']==4][col]\n",
    "# plot\n",
    "    fig, axes = plt.subplots(1, figsize=(15, 5), sharey=True, sharex=True)\n",
    "    fig.suptitle('Данные по столбцу: ' + col)\n",
    "    sns.distplot(x1 , color=\"dodgerblue\", ax=axes, label='cluster 0')\n",
    "    sns.distplot(x2 , color=\"red\", ax=axes, label = 'cluster 1')\n",
    "    sns.distplot(x3 , color=\"green\", ax=axes, label = 'cluster 2')\n",
    "    sns.distplot(x4 , color=\"yellow\", ax=axes, label = 'cluster 3')\n",
    "    sns.distplot(x5 , color=\"orange\", ax=axes, label = 'cluster 4')\n",
    "    fig.legend(bbox_to_anchor=(0.066, 0.9), loc='lower left', ncol=2, borderaxespad=0.)\n",
    "    axes.grid(axis='y', color='0.95')\n",
    "    axes.grid(axis='y', color='0.95')\n",
    "    plt.show()"
   ]
  },
  {
   "cell_type": "markdown",
   "metadata": {},
   "source": [
    "4 и 0 кластеры выделяются на фоне других большей величиной признаков."
   ]
  },
  {
   "cell_type": "markdown",
   "metadata": {},
   "source": [
    "Рассчитаем долю оттока для каждого кластера:"
   ]
  },
  {
   "cell_type": "code",
   "execution_count": null,
   "metadata": {},
   "outputs": [],
   "source": [
    "data.groupby('cluster')['Churn'].mean().sort_values()"
   ]
  },
  {
   "cell_type": "markdown",
   "metadata": {},
   "source": [
    "Минимальный отток у 0 и 4 кластеров. У 1 кластера отток составляет  26%, 2 - 44%, наибольший отток у 3 кластера (50%)."
   ]
  },
  {
   "cell_type": "markdown",
   "metadata": {},
   "source": [
    "### 6. <a name=\"6.\"></a>Выводы\n",
    "[к содержанию](#1.)"
   ]
  },
  {
   "cell_type": "markdown",
   "metadata": {},
   "source": [
    "- В ходе исследования выделено пять групп клиентов,\n",
    "- К целевым клиентам относятся люди в возрасте около 30 лет (среди них наименьшая доля оттока),\n",
    "- Основные целевые групп две. Первую группу (кластер 0) характеризуют следующие признаки:\n",
    "    - наибольшая доля клиентов, относящиеся к сотрудникам компании-партнёра клуба,\n",
    "    - наибольшая доля клиентов, воспользовавшихся акцией «приведи друга»,\n",
    "    - наибольшая длительность действующего абонемента,\n",
    "    - наибольшая доля клиентов, посещающих групповые занятия,\n",
    "    - высокая средняя частота посещений,\n",
    "    - клиенты, активно пользующихся другими услугами фитнес-центра,\n",
    "    - низкий отток.\n",
    "- Отличительные признаки второй целевой группы (кластер 4):\n",
    "    - наибольшая доля клиентов, активно пользующихся другими услугами фитнес-центра,\n",
    "    - наибольшая средняя частота посещений,\n",
    "    - низкий отток."
   ]
  },
  {
   "cell_type": "markdown",
   "metadata": {},
   "source": [
    "Рекомендации.\n",
    "- Для сокращения оттока в 3 группе, где наблюдается высокий отток и около 2 мес до окончания действия абонемента -  сделать спец. предложения по продлению членства в клубе, вовлекать в групповые программы, например, предлагать бесплатные первые посещения, бесплатные посещения групповых программ для друзей и т.п.\n",
    "- Для самой ценной группы (кластер 0)- поддержка лояльности, работа в соц. сетях, расширение направления групповых программ.\n"
   ]
  }
 ],
 "metadata": {
  "kernelspec": {
   "display_name": "Python 3",
   "language": "python",
   "name": "python3"
  },
  "language_info": {
   "codemirror_mode": {
    "name": "ipython",
    "version": 3
   },
   "file_extension": ".py",
   "mimetype": "text/x-python",
   "name": "python",
   "nbconvert_exporter": "python",
   "pygments_lexer": "ipython3",
   "version": "3.7.4"
  }
 },
 "nbformat": 4,
 "nbformat_minor": 2
}
